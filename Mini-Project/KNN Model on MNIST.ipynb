{
 "cells": [
  {
   "cell_type": "code",
   "execution_count": 1,
   "metadata": {},
   "outputs": [],
   "source": [
    "import numpy as np\n",
    "import operator \n",
    "from operator import itemgetter\n",
    "from sklearn.model_selection import train_test_split\n",
    "import matplotlib.pyplot as plt\n",
    "from sklearn.metrics import confusion_matrix"
   ]
  },
  {
   "cell_type": "code",
   "execution_count": 2,
   "metadata": {},
   "outputs": [],
   "source": [
    "def euc_dist(x1, x2):\n",
    "    return np.sqrt(np.sum((x1-x2)**2))"
   ]
  },
  {
   "cell_type": "code",
   "execution_count": 3,
   "metadata": {},
   "outputs": [],
   "source": [
    "class KNN:\n",
    "    def __init__(self, K=3):\n",
    "        self.K = K\n",
    "    def fit(self, x_train, y_train):\n",
    "        self.X_train = x_train\n",
    "        self.Y_train = y_train\n",
    "    def predict(self, X_test):\n",
    "        predictions = [] \n",
    "        for i in range(len(X_test)):\n",
    "            dist = np.array([euc_dist(X_test[i], x_t) for x_t in   \n",
    "            self.X_train])\n",
    "            dist_sorted = dist.argsort()[:self.K]\n",
    "            neigh_count = {}\n",
    "            for idx in dist_sorted:\n",
    "                if self.Y_train[idx] in neigh_count:\n",
    "                    neigh_count[self.Y_train[idx]] += 1\n",
    "                else:\n",
    "                    neigh_count[self.Y_train[idx]] = 1\n",
    "            sorted_neigh_count = sorted(neigh_count.items(),    \n",
    "            key=operator.itemgetter(1), reverse=True)\n",
    "            predictions.append(sorted_neigh_count[0][0]) \n",
    "        return predictions"
   ]
  },
  {
   "cell_type": "code",
   "execution_count": 4,
   "metadata": {},
   "outputs": [
    {
     "name": "stdout",
     "output_type": "stream",
     "text": [
      "(1797, 64)\n"
     ]
    }
   ],
   "source": [
    "from sklearn.datasets import load_digits\n",
    "mnist = load_digits()\n",
    "print(mnist.data.shape)\n",
    "X = mnist.data \n",
    "y = mnist.target"
   ]
  },
  {
   "cell_type": "code",
   "execution_count": 5,
   "metadata": {},
   "outputs": [
    {
     "name": "stdout",
     "output_type": "stream",
     "text": [
      "(1347, 64) (1347,)\n",
      "(450, 64) (450,)\n",
      "(array([0, 1, 2, 3, 4, 5, 6, 7, 8, 9]), array([127, 140, 136, 143, 129, 134, 133, 138, 129, 138], dtype=int64))\n",
      "(array([0, 1, 2, 3, 4, 5, 6, 7, 8, 9]), array([51, 42, 41, 40, 52, 48, 48, 41, 45, 42], dtype=int64))\n"
     ]
    }
   ],
   "source": [
    "X_train, X_test, y_train, y_test = train_test_split(X, y, test_size=0.25, random_state=123)\n",
    "print(X_train.shape, y_train.shape)\n",
    "print(X_test.shape, y_test.shape)\n",
    "print(np.unique(y_train,return_counts=True))\n",
    "print(np.unique(y_test,return_counts=True))"
   ]
  },
  {
   "cell_type": "code",
   "execution_count": 6,
   "metadata": {},
   "outputs": [],
   "source": [
    "from sklearn.metrics import precision_recall_fscore_support\n",
    "from sklearn.metrics import accuracy_score"
   ]
  },
  {
   "cell_type": "code",
   "execution_count": 7,
   "metadata": {},
   "outputs": [
    {
     "name": "stdout",
     "output_type": "stream",
     "text": [
      "K = 3; Accuracy: 0.9755555555555555\n",
      "K = 5; Accuracy: 0.9755555555555555\n",
      "K = 7; Accuracy: 0.9755555555555555\n",
      "K = 9; Accuracy: 0.9755555555555555\n",
      "K = 11; Accuracy: 0.9733333333333334\n",
      "K = 13; Accuracy: 0.9711111111111111\n",
      "K = 15; Accuracy: 0.9688888888888889\n",
      "K = 17; Accuracy: 0.9666666666666667\n",
      "K = 19; Accuracy: 0.9666666666666667\n",
      "K = 21; Accuracy: 0.9666666666666667\n",
      "K = 23; Accuracy: 0.9644444444444444\n",
      "K = 25; Accuracy: 0.9644444444444444\n",
      "K = 27; Accuracy: 0.9666666666666667\n",
      "K = 29; Accuracy: 0.9622222222222222\n",
      "K = 31; Accuracy: 0.96\n",
      "K = 33; Accuracy: 0.96\n",
      "K = 35; Accuracy: 0.9577777777777777\n",
      "K = 37; Accuracy: 0.9577777777777777\n",
      "K = 39; Accuracy: 0.9577777777777777\n",
      "K = 41; Accuracy: 0.9555555555555556\n",
      "K = 43; Accuracy: 0.9511111111111111\n",
      "K = 45; Accuracy: 0.9488888888888889\n",
      "K = 47; Accuracy: 0.9444444444444444\n",
      "K = 49; Accuracy: 0.9444444444444444\n",
      "K = 51; Accuracy: 0.9377777777777778\n",
      "K = 53; Accuracy: 0.9355555555555556\n",
      "K = 55; Accuracy: 0.9333333333333333\n",
      "K = 57; Accuracy: 0.9333333333333333\n",
      "K = 59; Accuracy: 0.9311111111111111\n",
      "K = 61; Accuracy: 0.9333333333333333\n",
      "K = 63; Accuracy: 0.9333333333333333\n",
      "K = 65; Accuracy: 0.9311111111111111\n",
      "K = 67; Accuracy: 0.9288888888888889\n",
      "K = 69; Accuracy: 0.9266666666666666\n",
      "K = 71; Accuracy: 0.9288888888888889\n",
      "K = 73; Accuracy: 0.9311111111111111\n",
      "K = 75; Accuracy: 0.9288888888888889\n",
      "K = 77; Accuracy: 0.9266666666666666\n",
      "K = 79; Accuracy: 0.92\n",
      "K = 81; Accuracy: 0.9222222222222223\n",
      "K = 83; Accuracy: 0.9222222222222223\n",
      "K = 85; Accuracy: 0.92\n",
      "K = 87; Accuracy: 0.9177777777777778\n",
      "K = 89; Accuracy: 0.9177777777777778\n",
      "K = 91; Accuracy: 0.9111111111111111\n",
      "K = 93; Accuracy: 0.9111111111111111\n",
      "K = 95; Accuracy: 0.9088888888888889\n",
      "K = 97; Accuracy: 0.9088888888888889\n",
      "K = 99; Accuracy: 0.9066666666666666\n"
     ]
    }
   ],
   "source": [
    "kVals = np.arange(3,100,2)\n",
    "accuracies = []\n",
    "for k in kVals:\n",
    "  model = KNN(K = k)\n",
    "  model.fit(X_train, y_train)\n",
    "  pred = model.predict(X_test)\n",
    "  acc = accuracy_score(y_test, pred)\n",
    "  accuracies.append(acc)\n",
    "  print(\"K = \"+str(k)+\"; Accuracy: \"+str(acc))"
   ]
  },
  {
   "cell_type": "code",
   "execution_count": 19,
   "metadata": {},
   "outputs": [
    {
     "name": "stdout",
     "output_type": "stream",
     "text": [
      "0\n"
     ]
    }
   ],
   "source": [
    "max_index = accuracies.index(max(accuracies))\n",
    "print(max_index)"
   ]
  },
  {
   "cell_type": "code",
   "execution_count": 20,
   "metadata": {},
   "outputs": [
    {
     "data": {
      "text/plain": [
       "Text(0, 0.5, 'Accuracy')"
      ]
     },
     "execution_count": 20,
     "metadata": {},
     "output_type": "execute_result"
    },
    {
     "data": {
      "image/png": "[encoded data removed]",
      "text/plain": [
       "<Figure size 432x288 with 1 Axes>"
      ]
     },
     "metadata": {
      "needs_background": "light"
     },
     "output_type": "display_data"
    }
   ],
   "source": [
    "from matplotlib import pyplot as plt \n",
    "plt.plot(kVals, accuracies) \n",
    "plt.xlabel(\"K Value\") \n",
    "plt.ylabel(\"Accuracy\")"
   ]
  },
  {
   "cell_type": "code",
   "execution_count": 21,
   "metadata": {},
   "outputs": [
    {
     "name": "stdout",
     "output_type": "stream",
     "text": [
      "Precision \n",
      " [1.         0.9929078  1.         1.         1.         1.\n",
      " 0.98518519 1.         0.9921875  0.99275362]\n",
      "\n",
      "Recall \n",
      " [1.         1.         1.         1.         1.         0.99253731\n",
      " 1.         0.99275362 0.98449612 0.99275362]\n",
      "\n",
      "F-score \n",
      " [1.         0.99644128 1.         1.         1.         0.99625468\n",
      " 0.99253731 0.99636364 0.98832685 0.99275362]\n"
     ]
    }
   ],
   "source": [
    "model = KNN(K = 3) \n",
    "model.fit(X_train, y_train) \n",
    "pred = model.predict(X_train)\n",
    "precision, recall, fscore, _ = precision_recall_fscore_support(y_train, pred)\n",
    "print(\"Precision \\n\", precision)\n",
    "print(\"\\nRecall \\n\", recall)\n",
    "print(\"\\nF-score \\n\", fscore)"
   ]
  },
  {
   "cell_type": "code",
   "execution_count": 9,
   "metadata": {},
   "outputs": [
    {
     "name": "stdout",
     "output_type": "stream",
     "text": [
      "Precision \n",
      " [1.         0.89361702 1.         0.93023256 0.98113208 1.\n",
      " 1.         1.         1.         0.95      ]\n",
      "\n",
      "Recall \n",
      " [1.         1.         0.97560976 1.         1.         0.95833333\n",
      " 1.         1.         0.91111111 0.9047619 ]\n",
      "\n",
      "F-score \n",
      " [1.         0.94382022 0.98765432 0.96385542 0.99047619 0.9787234\n",
      " 1.         1.         0.95348837 0.92682927]\n",
      "\n",
      "Accuracy \n",
      " 0.9755555555555555\n"
     ]
    }
   ],
   "source": [
    "model = KNN(K = 3)\n",
    "model.fit(X_train, y_train)\n",
    "pred = model.predict(X_test)\n",
    "acc = accuracy_score(y_test, pred)\n",
    "precision, recall, fscore, _ = precision_recall_fscore_support(y_test, pred)\n",
    "print(\"Precision \\n\", precision)\n",
    "print(\"\\nRecall \\n\", recall)\n",
    "print(\"\\nF-score \\n\", fscore)\n",
    "print(\"\\nAccuracy \\n\", acc)"
   ]
  },
  {
   "cell_type": "code",
   "execution_count": 29,
   "metadata": {
    "scrolled": true
   },
   "outputs": [
    {
     "data": {
      "text/plain": [
       "array([[51,  0,  0,  0,  0,  0,  0,  0,  0,  0],\n",
       "       [ 0, 36,  3,  0,  0,  0,  0,  0,  0,  3],\n",
       "       [ 0,  0, 36,  1,  0,  0,  0,  2,  2,  0],\n",
       "       [ 0,  0,  0, 38,  0,  0,  0,  1,  1,  0],\n",
       "       [ 0,  2,  0,  0, 48,  0,  0,  2,  0,  0],\n",
       "       [ 1,  0,  0,  0,  1, 41,  0,  0,  0,  5],\n",
       "       [ 1,  0,  0,  0,  0,  0, 47,  0,  0,  0],\n",
       "       [ 0,  0,  0,  0,  0,  0,  0, 41,  0,  0],\n",
       "       [ 0,  5,  1,  1,  0,  0,  1,  1, 34,  2],\n",
       "       [ 0,  3,  0,  1,  0,  0,  0,  2,  0, 36]], dtype=int64)"
      ]
     },
     "execution_count": 29,
     "metadata": {},
     "output_type": "execute_result"
    }
   ],
   "source": [
    "conf_mx = confusion_matrix(y_test, pred)\n",
    "conf_mx"
   ]
  },
  {
   "cell_type": "code",
   "execution_count": null,
   "metadata": {},
   "outputs": [],
   "source": []
  }
 ],
 "metadata": {
  "kernelspec": {
   "display_name": "Python 3",
   "language": "python",
   "name": "python3"
  },
  "language_info": {
   "codemirror_mode": {
    "name": "ipython",
    "version": 3
   },
   "file_extension": ".py",
   "mimetype": "text/x-python",
   "name": "python",
   "nbconvert_exporter": "python",
   "pygments_lexer": "ipython3",
   "version": "3.8.5"
  }
 },
 "nbformat": 4,
 "nbformat_minor": 4
}
